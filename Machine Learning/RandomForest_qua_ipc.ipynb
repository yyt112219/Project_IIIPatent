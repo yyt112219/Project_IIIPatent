{
 "cells": [
  {
   "cell_type": "code",
   "execution_count": 1,
   "metadata": {},
   "outputs": [],
   "source": [
    "from pyspark.sql import SparkSession\n",
    "spark = SparkSession.builder.master(\"yarn\")\\\n",
    ".config('spark.executor.cores', '2')\\\n",
    ".config('spark.executor.memory', '7G')\\\n",
    ".config('spark.driver.memory','4G')\\\n",
    ".config('spark.executor.instances','8')\\\n",
    ".appName('bdse62')\\\n",
    ".getOrCreate()"
   ]
  },
  {
   "cell_type": "code",
   "execution_count": 2,
   "metadata": {},
   "outputs": [],
   "source": [
    "abstract=spark.read.csv('hdfs:///bdse71/ABS')"
   ]
  },
  {
   "cell_type": "markdown",
   "metadata": {},
   "source": [
    "# Random Forest"
   ]
  },
  {
   "cell_type": "code",
   "execution_count": 3,
   "metadata": {},
   "outputs": [],
   "source": [
    "testDF = spark.read.parquet('hdfs:///data/jso_hierarchy.parquet')"
   ]
  },
  {
   "cell_type": "code",
   "execution_count": 4,
   "metadata": {},
   "outputs": [
    {
     "name": "stdout",
     "output_type": "stream",
     "text": [
      "+------------------+--------+-------+-------+\n",
      "|Application_Number|mono_ipc|tri_ipc|qua_ipc|\n",
      "+------------------+--------+-------+-------+\n",
      "| PCT/CA2018/000243|       B|    A61|   B25J|\n",
      "| PCT/CA2019/050200|       G|    G02|   G02C|\n",
      "| PCT/CL2016/050019|       G|    G06|   G06Q|\n",
      "| PCT/CN2012/070253|       A|    A43|   A43B|\n",
      "| PCT/DE2014/100160|       F|    F41|   F41H|\n",
      "| PCT/DE2016/100332|       C|    C10|   C10B|\n",
      "| PCT/DK2005/000435|       A|    A61|   A61K|\n",
      "| PCT/EP1999/004038|       E|    E21|   E21B|\n",
      "| PCT/EP1999/008598|       A|    A61|   A61K|\n",
      "| PCT/EP2000/004724|       A|    A23|   A23G|\n",
      "| PCT/EP2000/011562|       C|    C11|   C11D|\n",
      "| PCT/EP2001/002279|       C|    A01|   A01N|\n",
      "| PCT/EP2001/003614|       B|    F16|   F16B|\n",
      "| PCT/EP2001/003789|       A|    A22|   A22B|\n",
      "| PCT/EP2001/010090|       C|    C12|   C12N|\n",
      "| PCT/EP2001/013071|       C|    C07|   C08F|\n",
      "| PCT/EP2001/014943|       B|    B60|   B60T|\n",
      "| PCT/EP2003/007473|       C|    A01|   A01N|\n",
      "| PCT/EP2003/011110|       A|    A61|   A61K|\n",
      "| PCT/EP2005/006018|       C|    A01|   A01N|\n",
      "+------------------+--------+-------+-------+\n",
      "only showing top 20 rows\n",
      "\n"
     ]
    }
   ],
   "source": [
    "testDF.show()"
   ]
  },
  {
   "cell_type": "markdown",
   "metadata": {},
   "source": [
    "## TF-IDF計算"
   ]
  },
  {
   "cell_type": "markdown",
   "metadata": {},
   "source": [
    "testDF = spark.read.json('hdfs:///data/df_mono_ipc.json')"
   ]
  },
  {
   "cell_type": "code",
   "execution_count": 5,
   "metadata": {},
   "outputs": [],
   "source": [
    "from pyspark.ml import Pipeline\n",
    "from pyspark.ml.feature import CountVectorizer\n",
    "from pyspark.ml.feature import HashingTF, IDF, Tokenizer, RegexTokenizer\n",
    "from pyspark.ml.feature import StopWordsRemover"
   ]
  },
  {
   "cell_type": "code",
   "execution_count": 6,
   "metadata": {},
   "outputs": [
    {
     "name": "stdout",
     "output_type": "stream",
     "text": [
      "+-----------------+--------------------+\n",
      "|              _c0|                 _c1|\n",
      "+-----------------+--------------------+\n",
      "|PCT/IB2015/050868|For the productio...|\n",
      "|PCT/EP2013/003311|A composition com...|\n",
      "|PCT/AU2010/000148|An agricultural a...|\n",
      "|PCT/CN2013/072341|A detection metho...|\n",
      "|PCT/EP2013/058979|The invention rel...|\n",
      "|PCT/EP2016/063487|The present inven...|\n",
      "|PCT/GB2009/001774|A compound having...|\n",
      "|PCT/EP2013/077705|A compound with t...|\n",
      "|PCT/EP2009/006204|The invention rel...|\n",
      "|PCT/KR2017/010450|The present inven...|\n",
      "|PCT/EP2010/000270|The present inven...|\n",
      "|PCT/EP2013/077695|A compound of for...|\n",
      "|PCT/KR2012/004595|The present funct...|\n",
      "|PCT/JP2015/004803|A zoom lens accor...|\n",
      "|PCT/AT2017/000070|The invention rel...|\n",
      "|PCT/KR2015/006148|The present inven...|\n",
      "|PCT/IB2014/001029|A conjugate of fo...|\n",
      "|PCT/GB2012/052526|A method for prom...|\n",
      "|PCT/EP2001/009832|Liquid crystal mi...|\n",
      "|PCT/KR2000/000814|The present inven...|\n",
      "+-----------------+--------------------+\n",
      "only showing top 20 rows\n",
      "\n"
     ]
    }
   ],
   "source": [
    "abstract=abstract.dropna()\n",
    "abstract.show()"
   ]
  },
  {
   "cell_type": "markdown",
   "metadata": {},
   "source": [
    "abstractJoin two tables"
   ]
  },
  {
   "cell_type": "code",
   "execution_count": 7,
   "metadata": {},
   "outputs": [],
   "source": [
    "joinExpression = testDF['Application_Number']==abstract[\"_c0\"]\n",
    "joinType = \"inner\""
   ]
  },
  {
   "cell_type": "code",
   "execution_count": 8,
   "metadata": {},
   "outputs": [
    {
     "data": {
      "text/plain": [
       "StructType(List(StructField(Application_Number,StringType,true),StructField(mono_ipc,StringType,true),StructField(tri_ipc,StringType,true),StructField(qua_ipc,StringType,true)))"
      ]
     },
     "execution_count": 8,
     "metadata": {},
     "output_type": "execute_result"
    }
   ],
   "source": [
    "testDF.schema"
   ]
  },
  {
   "cell_type": "code",
   "execution_count": 9,
   "metadata": {},
   "outputs": [
    {
     "name": "stdout",
     "output_type": "stream",
     "text": [
      "+------------------+--------+-------+-------+--------------------+\n",
      "|Application_Number|mono_ipc|tri_ipc|qua_ipc|                 _c1|\n",
      "+------------------+--------+-------+-------+--------------------+\n",
      "| PCT/CN2014/000929|       E|    E21|   E21C|A harrow excavato...|\n",
      "| PCT/EP2000/011063|       E|    E05|   E05B|The invention rel...|\n",
      "| PCT/DE2000/002722|       E|    E05|   G06F|The invention rel...|\n",
      "| PCT/EP2001/011433|       E|    E01|   E02D|The invention rel...|\n",
      "| PCT/IB2016/055812|       E|    E21|   E02D|A percussion devi...|\n",
      "| PCT/KR2015/007369|       E|    E01|   E01C|The present inven...|\n",
      "| PCT/US2001/006951|       E|    E21|   E21B|A petroleum well ...|\n",
      "| PCT/EP2001/003208|       E|    E05|   E05B|The invention rel...|\n",
      "| PCT/EP2012/069088|       E|    E21|   E21B|The present inven...|\n",
      "| PCT/CN2015/071782|       E|    E21|   E21C|A reciprocating i...|\n",
      "| PCT/CA2001/000121|       E|    E05|   E05B|A latch assembly ...|\n",
      "| PCT/CN2014/000009|       E|    E21|   E21C|An easily removab...|\n",
      "| PCT/AU2016/050241|       E|    E21|   E21B|Orientation data ...|\n",
      "| PCT/US2001/009607|       E|    E21|   E21B|A flow completion...|\n",
      "| PCT/CA2000/001056|       E|    E05|   E05B|A latch assembly ...|\n",
      "| PCT/SE2002/000043|       E|    E04|   E04F|A floorboard and ...|\n",
      "| PCT/NO2010/000081|       E|    E21|   E21B|Method and system...|\n",
      "| PCT/ES2002/000118|       E|    E01|   E01F|The invention rel...|\n",
      "| PCT/IB2013/000890|       E|    E21|   E21B|The present inven...|\n",
      "| PCT/EP2009/067481|       E|    E04|   E04B|The present inven...|\n",
      "+------------------+--------+-------+-------+--------------------+\n",
      "only showing top 20 rows\n",
      "\n"
     ]
    }
   ],
   "source": [
    "joinedDF=testDF.join(abstract,joinExpression,joinType).drop('_c0')\n",
    "joinedDF.filter(joinedDF.mono_ipc=='E').show()"
   ]
  },
  {
   "cell_type": "code",
   "execution_count": 10,
   "metadata": {},
   "outputs": [
    {
     "name": "stdout",
     "output_type": "stream",
     "text": [
      "+------------------+-------+--------------------+\n",
      "|Application_Number|qua_ipc|                 _c1|\n",
      "+------------------+-------+--------------------+\n",
      "| PCT/CN2014/000929|   E21C|A harrow excavato...|\n",
      "| PCT/EP2000/011063|   E05B|The invention rel...|\n",
      "| PCT/DE2000/002722|   G06F|The invention rel...|\n",
      "| PCT/EP2001/011433|   E02D|The invention rel...|\n",
      "| PCT/IB2016/055812|   E02D|A percussion devi...|\n",
      "| PCT/KR2015/007369|   E01C|The present inven...|\n",
      "| PCT/US2001/006951|   E21B|A petroleum well ...|\n",
      "| PCT/EP2001/003208|   E05B|The invention rel...|\n",
      "| PCT/EP2012/069088|   E21B|The present inven...|\n",
      "| PCT/CN2015/071782|   E21C|A reciprocating i...|\n",
      "| PCT/CA2001/000121|   E05B|A latch assembly ...|\n",
      "| PCT/CN2014/000009|   E21C|An easily removab...|\n",
      "| PCT/AU2016/050241|   E21B|Orientation data ...|\n",
      "| PCT/US2001/009607|   E21B|A flow completion...|\n",
      "| PCT/CA2000/001056|   E05B|A latch assembly ...|\n",
      "| PCT/SE2002/000043|   E04F|A floorboard and ...|\n",
      "| PCT/NO2010/000081|   E21B|Method and system...|\n",
      "| PCT/ES2002/000118|   E01F|The invention rel...|\n",
      "| PCT/IB2013/000890|   E21B|The present inven...|\n",
      "| PCT/EP2009/067481|   E04B|The present inven...|\n",
      "+------------------+-------+--------------------+\n",
      "only showing top 20 rows\n",
      "\n"
     ]
    }
   ],
   "source": [
    "joinedDF=joinedDF.filter(joinedDF.mono_ipc=='E').select('Application_Number','qua_ipc','_c1');joinedDF.show()"
   ]
  },
  {
   "cell_type": "markdown",
   "metadata": {},
   "source": [
    "### stack the model"
   ]
  },
  {
   "cell_type": "code",
   "execution_count": 11,
   "metadata": {},
   "outputs": [],
   "source": [
    "tokenizer = RegexTokenizer(inputCol=\"_c1\", outputCol=\"words\",pattern=\"\\\\W\")\n",
    "remover = StopWordsRemover(inputCol=\"words\", outputCol=\"removededWords\") # stopWords=yourownstopwords\n",
    "vectorizer = CountVectorizer(inputCol=\"removededWords\", outputCol=\"rawFeatures\")\n",
    "#idf = IDF(inputCol=\"rawFeatures\", outputCol=\"features\") # minDocFreq=2, TF小於2的就忽略\n",
    "idf = IDF(inputCol=\"rawFeatures\", outputCol=\"features\", minDocFreq=2)\n",
    "pipeline = Pipeline(stages=[tokenizer,remover ,vectorizer, idf])\n",
    "model = pipeline.fit(joinedDF)"
   ]
  },
  {
   "cell_type": "code",
   "execution_count": 12,
   "metadata": {},
   "outputs": [
    {
     "name": "stdout",
     "output_type": "stream",
     "text": [
      "+----------+------+\n",
      "| vocabList|counts|\n",
      "+----------+------+\n",
      "|      said|1092.0|\n",
      "|       one|1089.0|\n",
      "| invention| 938.0|\n",
      "|     least| 859.0|\n",
      "|     means| 841.0|\n",
      "|   element| 808.0|\n",
      "|     first| 781.0|\n",
      "|    device| 746.0|\n",
      "|  provided| 636.0|\n",
      "|    member| 629.0|\n",
      "| comprises| 628.0|\n",
      "|comprising| 625.0|\n",
      "|   surface| 622.0|\n",
      "|    second| 587.0|\n",
      "|  position| 556.0|\n",
      "|       end| 543.0|\n",
      "|      part| 513.0|\n",
      "|   relates| 484.0|\n",
      "|       two| 469.0|\n",
      "|      wall| 456.0|\n",
      "+----------+------+\n",
      "only showing top 20 rows\n",
      "\n"
     ]
    }
   ],
   "source": [
    "import numpy as np\n",
    "total_counts = model.transform(joinedDF).select('rawFeatures').rdd.map(lambda row: row['rawFeatures'].toArray()).reduce(lambda x,y: [x[i]+y[i] for i in range(len(y))])\n",
    "vocabList = model.stages[2].vocabulary\n",
    "d = {'vocabList':vocabList,'counts':total_counts}\n",
    "spark.createDataFrame(np.array(list(d.values())).T.tolist(),list(d.keys())).show()"
   ]
  },
  {
   "cell_type": "code",
   "execution_count": 13,
   "metadata": {},
   "outputs": [],
   "source": [
    "spark.createDataFrame(np.array(list(d.values())).T.tolist(),list(d.keys())).write.csv('hdfs:///data/L_words_Of_Bad_Jan14.csv',header=True,mode='overwrite')"
   ]
  },
  {
   "cell_type": "code",
   "execution_count": 14,
   "metadata": {},
   "outputs": [],
   "source": [
    "tfidf=model.transform(joinedDF)"
   ]
  },
  {
   "cell_type": "code",
   "execution_count": 15,
   "metadata": {},
   "outputs": [
    {
     "name": "stdout",
     "output_type": "stream",
     "text": [
      "+-------------+\n",
      "|num_of_sample|\n",
      "+-------------+\n",
      "|         1483|\n",
      "+-------------+\n",
      "\n"
     ]
    }
   ],
   "source": [
    "tfidf.createOrReplaceTempView(\"table1\")\n",
    "spark.sql('select count(*) as num_of_sample from table1').show()"
   ]
  },
  {
   "cell_type": "code",
   "execution_count": 16,
   "metadata": {},
   "outputs": [
    {
     "data": {
      "text/plain": [
       "['Application_Number',\n",
       " 'qua_ipc',\n",
       " '_c1',\n",
       " 'words',\n",
       " 'removededWords',\n",
       " 'rawFeatures',\n",
       " 'features']"
      ]
     },
     "execution_count": 16,
     "metadata": {},
     "output_type": "execute_result"
    }
   ],
   "source": [
    "tfidf.columns"
   ]
  },
  {
   "cell_type": "code",
   "execution_count": 17,
   "metadata": {},
   "outputs": [],
   "source": [
    "tfidfForTrain=spark.sql('select qua_ipc,rawFeatures, features from table1')"
   ]
  },
  {
   "cell_type": "code",
   "execution_count": 18,
   "metadata": {},
   "outputs": [
    {
     "name": "stdout",
     "output_type": "stream",
     "text": [
      "+-------+--------------------+--------------------+\n",
      "|qua_ipc|         rawFeatures|            features|\n",
      "+-------+--------------------+--------------------+\n",
      "|   E21C|(7650,[1,8,10,14,...|(7650,[1,8,10,14,...|\n",
      "|   E05B|(7650,[0,1,2,3,4,...|(7650,[0,1,2,3,4,...|\n",
      "|   G06F|(7650,[0,2,4,5,10...|(7650,[0,2,4,5,10...|\n",
      "|   E02D|(7650,[0,1,2,3,8,...|(7650,[0,1,2,3,8,...|\n",
      "|   E02D|(7650,[1,3,7,15,1...|(7650,[1,3,7,15,1...|\n",
      "|   E01C|(7650,[2,8,11,12,...|(7650,[2,8,11,12,...|\n",
      "|   E21B|(7650,[1,7,8,10,1...|(7650,[1,7,8,10,1...|\n",
      "|   E05B|(7650,[0,1,2,3,5,...|(7650,[0,1,2,3,5,...|\n",
      "|   E21B|(7650,[1,2,3,5,6,...|(7650,[1,2,3,5,6,...|\n",
      "|   E21C|(7650,[8,11,16,26...|(7650,[8,11,16,26...|\n",
      "|   E05B|(7650,[6,13,14,36...|(7650,[6,13,14,36...|\n",
      "|   E21C|(7650,[7,10,11,15...|(7650,[7,10,11,15...|\n",
      "|   E21B|(7650,[3,7,12,15,...|(7650,[3,7,12,15,...|\n",
      "|   E21B|(7650,[6,9,10,11,...|(7650,[6,9,10,11,...|\n",
      "|   E05B|(7650,[6,13,14,32...|(7650,[6,13,14,32...|\n",
      "|   E04F|(7650,[1,3,4,6,10...|(7650,[1,3,4,6,10...|\n",
      "|   E21B|(7650,[0,4,10,11,...|(7650,[0,4,10,11,...|\n",
      "|   E01F|(7650,[0,1,2,4,5,...|(7650,[0,1,2,4,5,...|\n",
      "|   E21B|(7650,[0,2,8,10,1...|(7650,[0,2,8,10,1...|\n",
      "|   E04B|(7650,[2,4,5,6,8,...|(7650,[2,4,5,6,8,...|\n",
      "+-------+--------------------+--------------------+\n",
      "only showing top 20 rows\n",
      "\n"
     ]
    }
   ],
   "source": [
    "tfidfForTrain.show()"
   ]
  },
  {
   "cell_type": "code",
   "execution_count": 19,
   "metadata": {},
   "outputs": [],
   "source": [
    "from pyspark.ml.linalg import Vectors # !!!!caution: not from pyspark.mllib.linalg import Vectors\n",
    "from pyspark.ml import Pipeline\n",
    "from pyspark.ml.feature import IndexToString,StringIndexer, VectorIndexer\n",
    "from pyspark.ml.tuning import CrossValidator, ParamGridBuilder\n",
    "from pyspark.ml.evaluation import MulticlassClassificationEvaluator"
   ]
  },
  {
   "cell_type": "code",
   "execution_count": 20,
   "metadata": {},
   "outputs": [
    {
     "name": "stdout",
     "output_type": "stream",
     "text": [
      "+-------+--------------------+--------------------+------------+\n",
      "|qua_ipc|         rawFeatures|            features|indexedLabel|\n",
      "+-------+--------------------+--------------------+------------+\n",
      "|   E21C|(7650,[1,8,10,14,...|(7650,[1,8,10,14,...|        14.0|\n",
      "|   E05B|(7650,[0,1,2,3,4,...|(7650,[0,1,2,3,4,...|         3.0|\n",
      "|   G06F|(7650,[0,2,4,5,10...|(7650,[0,2,4,5,10...|        42.0|\n",
      "|   E02D|(7650,[0,1,2,3,8,...|(7650,[0,1,2,3,8,...|         4.0|\n",
      "|   E02D|(7650,[1,3,7,15,1...|(7650,[1,3,7,15,1...|         4.0|\n",
      "+-------+--------------------+--------------------+------------+\n",
      "only showing top 5 rows\n",
      "\n"
     ]
    }
   ],
   "source": [
    "labelIndexer = StringIndexer(inputCol='qua_ipc',outputCol='indexedLabel').fit(tfidfForTrain)\n",
    "labelIndexer.transform(tfidfForTrain).show(5, True)\n",
    "stage1=labelIndexer.transform(tfidfForTrain)"
   ]
  },
  {
   "cell_type": "code",
   "execution_count": 21,
   "metadata": {
    "scrolled": true
   },
   "outputs": [],
   "source": [
    "(trainingData, testData) = stage1.randomSplit([0.6, 0.4])\n",
    "#trainingData.show(2,truncate=False)\n",
    "#testData.show(2,truncate=False)"
   ]
  },
  {
   "cell_type": "code",
   "execution_count": 24,
   "metadata": {},
   "outputs": [],
   "source": [
    "from pyspark.ml.classification import RandomForestClassifier\n",
    "rf = RandomForestClassifier(featuresCol = 'features', labelCol = 'indexedLabel', maxDepth=12, maxBins=7650)\n",
    "rfModel = rf.fit(trainingData).transform(testData)"
   ]
  },
  {
   "cell_type": "code",
   "execution_count": 25,
   "metadata": {},
   "outputs": [
    {
     "name": "stdout",
     "output_type": "stream",
     "text": [
      "+-------+--------------------+--------------------+------------+--------------------+--------------------+----------+\n",
      "|qua_ipc|         rawFeatures|            features|indexedLabel|       rawPrediction|         probability|prediction|\n",
      "+-------+--------------------+--------------------+------------+--------------------+--------------------+----------+\n",
      "|   G06F|(7650,[0,2,4,5,10...|(7650,[0,2,4,5,10...|        42.0|[3.34817519075010...|[0.16740875953750...|       0.0|\n",
      "|   E21C|(7650,[8,11,16,26...|(7650,[8,11,16,26...|        14.0|[4.05898687169191...|[0.20294934358459...|       0.0|\n",
      "|   E05B|(7650,[6,13,14,36...|(7650,[6,13,14,36...|         3.0|[4.55235016619144...|[0.22761750830957...|       0.0|\n",
      "|   E21B|(7650,[0,2,8,10,1...|(7650,[0,2,8,10,1...|         0.0|[8.60157948765966...|[0.43007897438298...|       0.0|\n",
      "|   E05D|(7650,[1,2,3,4,6,...|(7650,[1,2,3,4,6,...|         9.0|[2.67911807451886...|[0.13395590372594...|       2.0|\n",
      "|   E04G|(7650,[2,4,7,9,10...|(7650,[2,4,7,9,10...|        11.0|[4.94396046709630...|[0.24719802335481...|       0.0|\n",
      "|   E02D|(7650,[0,1,2,3,4,...|(7650,[0,1,2,3,4,...|         4.0|[2.87725252167978...|[0.14386262608398...|       0.0|\n",
      "|   E06B|(7650,[0,3,4,7,10...|(7650,[0,3,4,7,10...|         2.0|[3.39431717294339...|[0.16971585864716...|       0.0|\n",
      "|   E21B|(7650,[0,1,2,3,6,...|(7650,[0,1,2,3,6,...|         0.0|[7.43220904266735...|[0.37161045213336...|       0.0|\n",
      "|   E04G|(7650,[1,2,3,4,5,...|(7650,[1,2,3,4,5,...|        11.0|[4.16842758644060...|[0.20842137932203...|       0.0|\n",
      "|   E04F|(7650,[4,5,6,8,9,...|(7650,[4,5,6,8,9,...|         5.0|[2.12298732000516...|[0.10614936600025...|       5.0|\n",
      "|   E05B|(7650,[5,8,11,14,...|(7650,[5,8,11,14,...|         3.0|[3.96022486034838...|[0.19801124301741...|       0.0|\n",
      "|   E05B|(7650,[0,1,2,3,4,...|(7650,[0,1,2,3,4,...|         3.0|[2.55377425549685...|[0.12768871277484...|       3.0|\n",
      "|   G07C|(7650,[2,11,21,33...|(7650,[2,11,21,33...|        29.0|[3.55389776201651...|[0.17769488810082...|       0.0|\n",
      "|   E21B|(7650,[1,2,9,10,2...|(7650,[1,2,9,10,2...|         0.0|[13.0058874823720...|[0.65029437411860...|       0.0|\n",
      "|   E05B|(7650,[4,10,14,18...|(7650,[4,10,14,18...|         3.0|[4.12968241608924...|[0.20648412080446...|       3.0|\n",
      "|   E03D|(7650,[2,10,37,41...|(7650,[2,10,37,41...|         6.0|[2.56701519772077...|[0.12835075988603...|       6.0|\n",
      "|   E03D|(7650,[1,3,4,6,9,...|(7650,[1,3,4,6,9,...|         6.0|[3.17526110594977...|[0.15876305529748...|       6.0|\n",
      "|   E06B|(7650,[0,1,3,6,8,...|(7650,[0,1,3,6,8,...|         2.0|[3.63902899296201...|[0.18195144964810...|       2.0|\n",
      "|   E21B|(7650,[1,2,4,15,1...|(7650,[1,2,4,15,1...|         0.0|[7.37419190755329...|[0.36870959537766...|       0.0|\n",
      "+-------+--------------------+--------------------+------------+--------------------+--------------------+----------+\n",
      "only showing top 20 rows\n",
      "\n"
     ]
    }
   ],
   "source": [
    "rfModel.show()"
   ]
  },
  {
   "cell_type": "code",
   "execution_count": 26,
   "metadata": {},
   "outputs": [
    {
     "data": {
      "text/plain": [
       "[Row(probability=DenseVector([0.1674, 0.1639, 0.0944, 0.0504, 0.0543, 0.0416, 0.026, 0.0322, 0.0266, 0.0184, 0.0452, 0.0396, 0.0257, 0.0137, 0.0217, 0.0214, 0.0262, 0.0204, 0.0175, 0.015, 0.0098, 0.013, 0.0104, 0.0065, 0.0086, 0.0067, 0.0039, 0.002, 0.0028, 0.0018, 0.0017, 0.0006, 0.0, 0.0009, 0.0017, 0.0, 0.0, 0.0015, 0.0011, 0.0, 0.001, 0.0012, 0.0, 0.0019, 0.0014])),\n",
       " Row(probability=DenseVector([0.2029, 0.089, 0.091, 0.051, 0.0568, 0.0477, 0.0345, 0.0357, 0.0282, 0.0205, 0.0374, 0.033, 0.0279, 0.0155, 0.0241, 0.0237, 0.0318, 0.0232, 0.0222, 0.0186, 0.0082, 0.0143, 0.0107, 0.007, 0.0099, 0.0072, 0.0053, 0.0022, 0.0034, 0.0021, 0.0013, 0.0009, 0.0, 0.0011, 0.0018, 0.0, 0.0, 0.0022, 0.0012, 0.0, 0.0012, 0.0016, 0.0, 0.0022, 0.0013])),\n",
       " Row(probability=DenseVector([0.2276, 0.0725, 0.0812, 0.107, 0.043, 0.0374, 0.0288, 0.0296, 0.0273, 0.017, 0.0306, 0.0418, 0.0228, 0.0129, 0.0329, 0.0219, 0.0267, 0.0187, 0.0157, 0.0128, 0.0054, 0.0125, 0.0089, 0.0048, 0.0086, 0.0297, 0.0043, 0.0016, 0.0031, 0.0017, 0.0008, 0.0004, 0.0, 0.001, 0.0009, 0.0, 0.0, 0.0016, 0.0008, 0.0, 0.0011, 0.0016, 0.0, 0.0018, 0.0012])),\n",
       " Row(probability=DenseVector([0.4301, 0.0568, 0.0613, 0.0351, 0.0777, 0.0297, 0.02, 0.0241, 0.0166, 0.0159, 0.0244, 0.0176, 0.0168, 0.0104, 0.0195, 0.0198, 0.0171, 0.0148, 0.0194, 0.0098, 0.0062, 0.013, 0.0052, 0.0107, 0.0051, 0.0071, 0.0031, 0.0008, 0.0014, 0.0016, 0.001, 0.0006, 0.0, 0.0005, 0.0015, 0.0, 0.0, 0.0012, 0.0005, 0.0, 0.0007, 0.001, 0.0, 0.0014, 0.0006])),\n",
       " Row(probability=DenseVector([0.134, 0.0714, 0.2221, 0.0492, 0.0311, 0.0357, 0.0178, 0.0326, 0.0146, 0.1013, 0.0354, 0.0202, 0.0196, 0.0134, 0.0108, 0.0316, 0.0156, 0.0182, 0.0067, 0.0085, 0.004, 0.0053, 0.009, 0.0044, 0.0054, 0.0688, 0.0027, 0.0013, 0.0017, 0.001, 0.0004, 0.0003, 0.0, 0.0007, 0.0007, 0.0, 0.0, 0.0013, 0.0004, 0.0, 0.0003, 0.0009, 0.0, 0.0009, 0.0004])),\n",
       " Row(probability=DenseVector([0.2472, 0.0604, 0.069, 0.0858, 0.0405, 0.0283, 0.0421, 0.0267, 0.0208, 0.0655, 0.0251, 0.022, 0.0207, 0.0109, 0.0179, 0.0702, 0.0224, 0.0173, 0.0186, 0.0126, 0.0074, 0.0129, 0.0081, 0.0164, 0.0072, 0.0058, 0.0034, 0.0016, 0.0017, 0.0013, 0.0014, 0.0004, 0.0, 0.0007, 0.0011, 0.0, 0.0, 0.0015, 0.0005, 0.0, 0.0009, 0.0011, 0.0, 0.0013, 0.0013])),\n",
       " Row(probability=DenseVector([0.1439, 0.1383, 0.1377, 0.0416, 0.0799, 0.1178, 0.0146, 0.0294, 0.0241, 0.012, 0.039, 0.0182, 0.0362, 0.0098, 0.0157, 0.0167, 0.022, 0.0193, 0.0134, 0.0103, 0.0156, 0.0074, 0.0055, 0.0046, 0.0051, 0.0058, 0.0044, 0.0013, 0.0015, 0.001, 0.0013, 0.0004, 0.0, 0.0005, 0.0013, 0.0, 0.0, 0.0008, 0.0008, 0.0, 0.0004, 0.0006, 0.0, 0.001, 0.0007])),\n",
       " Row(probability=DenseVector([0.1697, 0.0852, 0.0909, 0.0748, 0.0998, 0.0489, 0.0314, 0.039, 0.0254, 0.0199, 0.0361, 0.0314, 0.0272, 0.0143, 0.0196, 0.0245, 0.0278, 0.0209, 0.0164, 0.0139, 0.0066, 0.0132, 0.0093, 0.006, 0.0116, 0.0105, 0.005, 0.0019, 0.0032, 0.002, 0.0012, 0.0009, 0.0, 0.0009, 0.0011, 0.0, 0.0, 0.0019, 0.0009, 0.0, 0.0011, 0.0017, 0.0, 0.0022, 0.0012])),\n",
       " Row(probability=DenseVector([0.3716, 0.0772, 0.0767, 0.0411, 0.0351, 0.0437, 0.0253, 0.0338, 0.0245, 0.0161, 0.0346, 0.0243, 0.0219, 0.0116, 0.0167, 0.0177, 0.0209, 0.0208, 0.0142, 0.0097, 0.0049, 0.0114, 0.0071, 0.0059, 0.007, 0.0074, 0.0036, 0.0017, 0.0023, 0.0013, 0.0009, 0.0004, 0.0, 0.0007, 0.0011, 0.0, 0.0, 0.0014, 0.0009, 0.0, 0.0006, 0.0011, 0.0, 0.0018, 0.0009])),\n",
       " Row(probability=DenseVector([0.2084, 0.0927, 0.0878, 0.0491, 0.0461, 0.0399, 0.0282, 0.0346, 0.0262, 0.0199, 0.0587, 0.0268, 0.0268, 0.0388, 0.0248, 0.0227, 0.0269, 0.0252, 0.0171, 0.0157, 0.0097, 0.0134, 0.0107, 0.0062, 0.0085, 0.007, 0.0052, 0.0022, 0.0028, 0.0018, 0.0018, 0.0007, 0.0, 0.0011, 0.0008, 0.0, 0.0, 0.0016, 0.001, 0.0, 0.0037, 0.0016, 0.0, 0.0021, 0.0014]))]"
      ]
     },
     "execution_count": 26,
     "metadata": {},
     "output_type": "execute_result"
    }
   ],
   "source": [
    "prob_RF=rfModel.select('probability').collect();prob_RF[:10]"
   ]
  },
  {
   "cell_type": "code",
   "execution_count": 27,
   "metadata": {},
   "outputs": [
    {
     "name": "stdout",
     "output_type": "stream",
     "text": [
      "+--------------------+-------+--------------+\n",
      "|            features|qua_ipc|predictedLabel|\n",
      "+--------------------+-------+--------------+\n",
      "|(7650,[0,2,4,5,10...|   G06F|          E21B|\n",
      "|(7650,[8,11,16,26...|   E21C|          E21B|\n",
      "|(7650,[6,13,14,36...|   E05B|          E21B|\n",
      "|(7650,[0,2,8,10,1...|   E21B|          E21B|\n",
      "|(7650,[1,2,3,4,6,...|   E05D|          E06B|\n",
      "|(7650,[2,4,7,9,10...|   E04G|          E21B|\n",
      "|(7650,[0,1,2,3,4,...|   E02D|          E21B|\n",
      "|(7650,[0,3,4,7,10...|   E06B|          E21B|\n",
      "|(7650,[0,1,2,3,6,...|   E21B|          E21B|\n",
      "|(7650,[1,2,3,4,5,...|   E04G|          E21B|\n",
      "|(7650,[4,5,6,8,9,...|   E04F|          E04F|\n",
      "|(7650,[5,8,11,14,...|   E05B|          E21B|\n",
      "|(7650,[0,1,2,3,4,...|   E05B|          E05B|\n",
      "|(7650,[2,11,21,33...|   G07C|          E21B|\n",
      "|(7650,[1,2,9,10,2...|   E21B|          E21B|\n",
      "|(7650,[4,10,14,18...|   E05B|          E05B|\n",
      "|(7650,[2,10,37,41...|   E03D|          E03D|\n",
      "|(7650,[1,3,4,6,9,...|   E03D|          E03D|\n",
      "|(7650,[0,1,3,6,8,...|   E06B|          E06B|\n",
      "|(7650,[1,2,4,15,1...|   E21B|          E21B|\n",
      "+--------------------+-------+--------------+\n",
      "only showing top 20 rows\n",
      "\n"
     ]
    }
   ],
   "source": [
    "labelConverter = IndexToString(inputCol=\"prediction\", outputCol=\"predictedLabel\",labels=labelIndexer.labels)\n",
    "labelConverter.transform(rfModel).select('features','qua_ipc','predictedLabel').show()"
   ]
  },
  {
   "cell_type": "code",
   "execution_count": 28,
   "metadata": {},
   "outputs": [],
   "source": [
    "labelConverter.transform(rfModel).select('indexedLabel','prediction').createOrReplaceTempView('table2')\n",
    "predictionAndTarget = spark.sql('select indexedLabel as label, prediction from table2')\n",
    "\n",
    "evaluatorMulti = MulticlassClassificationEvaluator(labelCol=\"label\", predictionCol=\"prediction\")\n",
    "acc = evaluatorMulti.evaluate(predictionAndTarget)"
   ]
  },
  {
   "cell_type": "code",
   "execution_count": 29,
   "metadata": {},
   "outputs": [
    {
     "name": "stdout",
     "output_type": "stream",
     "text": [
      "0.29820039926648567\n"
     ]
    }
   ],
   "source": [
    "print(acc)"
   ]
  }
 ],
 "metadata": {
  "kernelspec": {
   "display_name": "Python 3",
   "language": "python",
   "name": "python3"
  },
  "language_info": {
   "codemirror_mode": {
    "name": "ipython",
    "version": 3
   },
   "file_extension": ".py",
   "mimetype": "text/x-python",
   "name": "python",
   "nbconvert_exporter": "python",
   "pygments_lexer": "ipython3",
   "version": "3.8.5"
  }
 },
 "nbformat": 4,
 "nbformat_minor": 4
}
