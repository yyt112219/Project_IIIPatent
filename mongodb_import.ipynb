{
 "cells": [
  {
   "cell_type": "code",
   "execution_count": 1,
   "metadata": {},
   "outputs": [
    {
     "name": "stdout",
     "output_type": "stream",
     "text": [
      "Collecting pymongo\n",
      "  Downloading pymongo-3.11.0-cp38-cp38-win_amd64.whl (382 kB)\n",
      "Installing collected packages: pymongo\n",
      "Successfully installed pymongo-3.11.0\n"
     ]
    }
   ],
   "source": [
    "!pip install pymongo"
   ]
  },
  {
   "cell_type": "code",
   "execution_count": 4,
   "metadata": {},
   "outputs": [],
   "source": [
    "import pymongo\n",
    "client = pymongo.MongoClient(host='localhost', port=27017)\n",
    "\n",
    "db = client.test\n",
    "\n",
    "collection = db.students"
   ]
  },
  {
   "cell_type": "code",
   "execution_count": 5,
   "metadata": {},
   "outputs": [
    {
     "name": "stdout",
     "output_type": "stream",
     "text": [
      "5f8cf1529540c335c8dcddca\n"
     ]
    },
    {
     "name": "stderr",
     "output_type": "stream",
     "text": [
      "<ipython-input-5-5365bcb70729>:7: DeprecationWarning: insert is deprecated. Use insert_one or insert_many instead.\n",
      "  result = collection.insert(student)\n"
     ]
    }
   ],
   "source": [
    "student = {\n",
    " 'id': '20170101',\n",
    " 'name': 'Jordan',\n",
    " 'age': 20,\n",
    " 'gender': 'male'\n",
    "}\n",
    "result = collection.insert(student)\n",
    "print(result)"
   ]
  },
  {
   "cell_type": "code",
   "execution_count": 6,
   "metadata": {},
   "outputs": [
    {
     "name": "stdout",
     "output_type": "stream",
     "text": [
      "[ObjectId('5f8cf1669540c335c8dcddcb'), ObjectId('5f8cf1669540c335c8dcddcc')]\n"
     ]
    },
    {
     "name": "stderr",
     "output_type": "stream",
     "text": [
      "<ipython-input-6-76338dceb660>:13: DeprecationWarning: insert is deprecated. Use insert_one or insert_many instead.\n",
      "  result = collection.insert([student1, student2])\n"
     ]
    }
   ],
   "source": [
    "student1 = {\n",
    " 'id': '20170101',\n",
    " 'name': 'Jordan',\n",
    " 'age': 20,\n",
    " 'gender': 'male'\n",
    "}\n",
    "student2 = {\n",
    " 'id': '20170202',\n",
    " 'name': 'Mike',\n",
    " 'age': 21,\n",
    " 'gender': 'male'\n",
    "}\n",
    "result = collection.insert([student1, student2])\n",
    "print(result)"
   ]
  },
  {
   "cell_type": "code",
   "execution_count": 10,
   "metadata": {},
   "outputs": [
    {
     "name": "stdout",
     "output_type": "stream",
     "text": [
      "<pymongo.cursor.Cursor object at 0x000001B47706ED90>\n",
      "{'_id': ObjectId('5f8cf1529540c335c8dcddca'), 'id': '20170101', 'name': 'Jordan', 'age': 20, 'gender': 'male'}\n",
      "{'_id': ObjectId('5f8cf1669540c335c8dcddcb'), 'id': '20170101', 'name': 'Jordan', 'age': 20, 'gender': 'male'}\n"
     ]
    }
   ],
   "source": [
    "results = collection.find({'age': 20})\n",
    "print(results)\n",
    "for result in results:\n",
    " print(result)"
   ]
  },
  {
   "cell_type": "code",
   "execution_count": 11,
   "metadata": {},
   "outputs": [
    {
     "name": "stdout",
     "output_type": "stream",
     "text": [
      "<pymongo.cursor.Cursor object at 0x000001B47706EE50>\n",
      "{'_id': ObjectId('5f8cf1669540c335c8dcddcc'), 'id': '20170202', 'name': 'Mike', 'age': 21, 'gender': 'male'}\n"
     ]
    }
   ],
   "source": [
    "results = collection.find({'age': {'$gt': 20}})\n",
    "print(results)\n",
    "for result in results:\n",
    " print(result)"
   ]
  },
  {
   "cell_type": "code",
   "execution_count": 12,
   "metadata": {},
   "outputs": [
    {
     "name": "stdout",
     "output_type": "stream",
     "text": [
      "3\n",
      "2\n"
     ]
    },
    {
     "name": "stderr",
     "output_type": "stream",
     "text": [
      "<ipython-input-12-30cedf45caaf>:1: DeprecationWarning: count is deprecated. Use Collection.count_documents instead.\n",
      "  count = collection.find().count()\n",
      "<ipython-input-12-30cedf45caaf>:5: DeprecationWarning: count is deprecated. Use Collection.count_documents instead.\n",
      "  count = collection.find({'age': 20}).count()\n"
     ]
    }
   ],
   "source": [
    "count = collection.find().count()\n",
    "print(count)\n",
    "\n",
    "\n",
    "count = collection.find({'age': 20}).count()\n",
    "print(count)"
   ]
  },
  {
   "cell_type": "code",
   "execution_count": 13,
   "metadata": {},
   "outputs": [
    {
     "name": "stdout",
     "output_type": "stream",
     "text": [
      "['Jordan', 'Jordan', 'Mike']\n"
     ]
    }
   ],
   "source": [
    "results = collection.find().sort('name', pymongo.ASCENDING)\n",
    "print([result['name'] for result in results])"
   ]
  },
  {
   "cell_type": "code",
   "execution_count": 14,
   "metadata": {},
   "outputs": [
    {
     "name": "stdout",
     "output_type": "stream",
     "text": [
      "['Mike']\n"
     ]
    }
   ],
   "source": [
    "results = collection.find().sort('name', pymongo.ASCENDING).skip(2)\n",
    "print([result['name'] for result in results])"
   ]
  },
  {
   "cell_type": "code",
   "execution_count": 15,
   "metadata": {},
   "outputs": [
    {
     "name": "stdout",
     "output_type": "stream",
     "text": [
      "['Mike']\n"
     ]
    }
   ],
   "source": [
    "results = collection.find().sort('name', pymongo.ASCENDING).skip(2).limit(2)\n",
    "print([result['name'] for result in results])"
   ]
  },
  {
   "cell_type": "code",
   "execution_count": 16,
   "metadata": {},
   "outputs": [
    {
     "name": "stdout",
     "output_type": "stream",
     "text": [
      "{'n': 1, 'nModified': 1, 'ok': 1.0, 'updatedExisting': True}\n"
     ]
    },
    {
     "name": "stderr",
     "output_type": "stream",
     "text": [
      "<ipython-input-16-925532694054>:4: DeprecationWarning: update is deprecated. Use replace_one, update_one or update_many instead.\n",
      "  result = collection.update(condition, student)\n"
     ]
    }
   ],
   "source": [
    "condition = {'name': 'Jordan'}\n",
    "student = collection.find_one(condition)\n",
    "student['age'] = 25\n",
    "result = collection.update(condition, student)\n",
    "print(result)"
   ]
  },
  {
   "cell_type": "code",
   "execution_count": 17,
   "metadata": {},
   "outputs": [
    {
     "name": "stdout",
     "output_type": "stream",
     "text": [
      "{'n': 1, 'nModified': 0, 'ok': 1.0, 'updatedExisting': True}\n"
     ]
    },
    {
     "name": "stderr",
     "output_type": "stream",
     "text": [
      "<ipython-input-17-925532694054>:4: DeprecationWarning: update is deprecated. Use replace_one, update_one or update_many instead.\n",
      "  result = collection.update(condition, student)\n"
     ]
    }
   ],
   "source": [
    "condition = {'name': 'Jordan'}\n",
    "student = collection.find_one(condition)\n",
    "student['age'] = 25\n",
    "result = collection.update(condition, student)\n",
    "print(result)"
   ]
  },
  {
   "cell_type": "code",
   "execution_count": 19,
   "metadata": {},
   "outputs": [
    {
     "name": "stdout",
     "output_type": "stream",
     "text": [
      "<pymongo.results.UpdateResult object at 0x000001B47709F3C0>\n",
      "1 0\n"
     ]
    }
   ],
   "source": [
    "condition = {'name': 'Jordan'}\n",
    "student = collection.find_one(condition)\n",
    "student['age'] = 26\n",
    "result = collection.update_one(condition, {'$set': student})\n",
    "print(result)\n",
    "print(result.matched_count, result.modified_count)"
   ]
  },
  {
   "cell_type": "code",
   "execution_count": 18,
   "metadata": {},
   "outputs": [
    {
     "name": "stdout",
     "output_type": "stream",
     "text": [
      "<pymongo.results.UpdateResult object at 0x000001B4771F6300>\n",
      "1 1\n"
     ]
    }
   ],
   "source": [
    "condition = {'age': {'$gt': 20}}\n",
    "result = collection.update_one(condition, {'$inc': {'age': 1}})\n",
    "print(result)\n",
    "print(result.matched_count, result.modified_count)"
   ]
  },
  {
   "cell_type": "code",
   "execution_count": 23,
   "metadata": {},
   "outputs": [
    {
     "name": "stdout",
     "output_type": "stream",
     "text": [
      "<pymongo.results.UpdateResult object at 0x000001B477224F40>\n",
      "2 2\n"
     ]
    }
   ],
   "source": [
    "condition = {'age': {'$gt': 20}}\n",
    "result = collection.update_many(condition, {'$inc': {'age': 1}})\n",
    "print(result)\n",
    "print(result.matched_count, result.modified_count)"
   ]
  },
  {
   "cell_type": "code",
   "execution_count": 24,
   "metadata": {},
   "outputs": [
    {
     "name": "stdout",
     "output_type": "stream",
     "text": [
      "<pymongo.results.DeleteResult object at 0x000001B477224FC0>\n",
      "1\n",
      "1\n"
     ]
    }
   ],
   "source": [
    "result = collection.delete_one({'name': 'Jordan'})\n",
    "print(result)\n",
    "print(result.deleted_count)\n",
    "result = collection.delete_many({'age': {'$lt': 25}})\n",
    "print(result.deleted_count)"
   ]
  },
  {
   "cell_type": "code",
   "execution_count": null,
   "metadata": {},
   "outputs": [],
   "source": []
  }
 ],
 "metadata": {
  "kernelspec": {
   "display_name": "Python 3",
   "language": "python",
   "name": "python3"
  },
  "language_info": {
   "codemirror_mode": {
    "name": "ipython",
    "version": 3
   },
   "file_extension": ".py",
   "mimetype": "text/x-python",
   "name": "python",
   "nbconvert_exporter": "python",
   "pygments_lexer": "ipython3",
   "version": "3.8.3"
  }
 },
 "nbformat": 4,
 "nbformat_minor": 4
}
