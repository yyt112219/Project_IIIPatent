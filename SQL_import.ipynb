{
 "cells": [
  {
   "cell_type": "code",
   "execution_count": 1,
   "metadata": {},
   "outputs": [
    {
     "name": "stdout",
     "output_type": "stream",
     "text": [
      "Collecting mysql-connector-python\n",
      "  Using cached mysql_connector_python-8.0.21-py2.py3-none-any.whl (366 kB)\n",
      "Collecting protobuf>=3.0.0\n",
      "  Using cached protobuf-3.13.0-py2.py3-none-any.whl (438 kB)\n",
      "Requirement already satisfied: six>=1.9 in c:\\users\\joy\\appdata\\roaming\\python\\python38\\site-packages (from protobuf>=3.0.0->mysql-connector-python) (1.13.0)\n",
      "Requirement already satisfied: setuptools in c:\\users\\joy\\anaconda3\\lib\\site-packages (from protobuf>=3.0.0->mysql-connector-python) (49.2.0.post20200714)\n",
      "Installing collected packages: protobuf, mysql-connector-python\n",
      "Successfully installed mysql-connector-python-8.0.21 protobuf-3.13.0\n"
     ]
    }
   ],
   "source": [
    "!pip install mysql-connector-python"
   ]
  },
  {
   "cell_type": "code",
   "execution_count": 3,
   "metadata": {},
   "outputs": [],
   "source": [
    "import mysql.connector\n",
    "maxdb = mysql.connector.connect(\n",
    "    host = \"127.0.0.1\",\n",
    "    user = \"root\",\n",
    "    password = \"\",\n",
    "    #database = \"maxdb\"\n",
    ")\n",
    "cursor = maxdb.cursor()"
   ]
  },
  {
   "cell_type": "code",
   "execution_count": 4,
   "metadata": {},
   "outputs": [],
   "source": [
    "# Create db\n",
    "cursor.execute(\"CREATE DATABASE maxdb\")\n",
    "cursor.execute(\"use maxdb\")"
   ]
  },
  {
   "cell_type": "code",
   "execution_count": 5,
   "metadata": {},
   "outputs": [],
   "source": [
    "# Create table\n",
    "cursor.execute(\"CREATE TABLE users (name VARCHAR(255), age INTEGER(99),user_id INTEGER AUTO_INCREMENT PRIMARY Key)\")"
   ]
  },
  {
   "cell_type": "code",
   "execution_count": 6,
   "metadata": {},
   "outputs": [],
   "source": [
    "# Insert Multiple Records\n",
    "sqlStuff = \"INSERT INTO users (name, age) VALUES (%s,%s)\"\n",
    "records = [(\"Steve\", 24),\n",
    " (\"Max\", 25),\n",
    " (\"Chang\" ,26),]\n",
    "cursor.executemany(sqlStuff, records)\n",
    "maxdb.commit()"
   ]
  },
  {
   "cell_type": "code",
   "execution_count": 7,
   "metadata": {},
   "outputs": [
    {
     "name": "stdout",
     "output_type": "stream",
     "text": [
      "('Max', 25, 2)\n"
     ]
    }
   ],
   "source": [
    "# Read\n",
    "cursor.execute(\"SELECT * FROM users Where name Like 'M%'\")\n",
    "result = cursor.fetchall()\n",
    "for row in result:\n",
    "print(row)"
   ]
  },
  {
   "cell_type": "code",
   "execution_count": 8,
   "metadata": {},
   "outputs": [],
   "source": [
    "# Update\n",
    "update_users = \"UPDATE users SET age = 23 WHERE user_id = 3\"\n",
    "cursor.execute(update_users)\n",
    "maxdb.commit()"
   ]
  },
  {
   "cell_type": "code",
   "execution_count": 9,
   "metadata": {},
   "outputs": [],
   "source": [
    "# Delete\n",
    "delete_users = \"DELETE FROM users WHERE user_id = 4\"\n",
    "cursor.execute(delete_users)\n",
    "maxdb.commit()"
   ]
  },
  {
   "cell_type": "code",
   "execution_count": 10,
   "metadata": {},
   "outputs": [],
   "source": [
    "# Delete Drpo Table\n",
    "delete_table = \"DROP TABLE IF EXISTS users\"\n",
    "cursor.execute(delete_table)"
   ]
  },
  {
   "cell_type": "code",
   "execution_count": null,
   "metadata": {},
   "outputs": [],
   "source": []
  }
 ],
 "metadata": {
  "kernelspec": {
   "display_name": "Python 3",
   "language": "python",
   "name": "python3"
  },
  "language_info": {
   "codemirror_mode": {
    "name": "ipython",
    "version": 3
   },
   "file_extension": ".py",
   "mimetype": "text/x-python",
   "name": "python",
   "nbconvert_exporter": "python",
   "pygments_lexer": "ipython3",
   "version": "3.8.3"
  }
 },
 "nbformat": 4,
 "nbformat_minor": 4
}
